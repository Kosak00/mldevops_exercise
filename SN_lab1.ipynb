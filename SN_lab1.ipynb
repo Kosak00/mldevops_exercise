{
 "cells": [
  {
   "cell_type": "code",
   "execution_count": null,
   "metadata": {
    "id": "Ne5-GvFeSAV_"
   },
   "outputs": [],
   "source": [
    "import numpy as np\n",
    "import torch\n",
    "import torch.nn as nn\n",
    "import torch.nn.functional as F\n",
    "import torch.optim as optim\n",
    "from torchvision import datasets\n",
    "from torchvision import transforms\n",
    "import matplotlib.pyplot as plt\n",
    "from collections import OrderedDict"
   ]
  },
  {
   "cell_type": "code",
   "execution_count": null,
   "metadata": {
    "id": "b1DPGTj8U_vo"
   },
   "outputs": [],
   "source": [
    "# Transforms images to a PyTorch Tensor\n",
    "transform = transforms.Compose([transforms.ToTensor(), transforms.Normalize((0.5,), (0.5,))])\n",
    "# Download the MNIST Dataset\n",
    "trainset = datasets.FashionMNIST(root=\"./data\", train=True, download=True, transform=transform)\n",
    "\n",
    "\n",
    "# DataLoader is used to load the dataset\n",
    "# for training\n",
    "trainloader = torch.utils.data.DataLoader(dataset=trainset, batch_size=32, shuffle=True)\n",
    "# Testset\n",
    "testset = datasets.FashionMNIST(root=\"./data\", train=False, download=True, transform=transform)\n",
    "\n",
    "\n",
    "testloader = torch.utils.data.DataLoader(dataset=trainset, batch_size=32, shuffle=False)"
   ]
  },
  {
   "cell_type": "code",
   "execution_count": null,
   "metadata": {
    "id": "13umuHHcHzpw"
   },
   "outputs": [],
   "source": [
    "class ANN(nn.Module):\n",
    "    def __init__(self):\n",
    "        super(ANN, self).__init__()\n",
    "        self.fc1 = nn.Linear(784, 128)\n",
    "        self.relu = nn.ReLU()\n",
    "        self.fc2 = nn.Linear(128, 64)\n",
    "        self.fc3 = nn.Linear(64, 10)\n",
    "\n",
    "    def forward(self, x):\n",
    "        x = x.view(-1, 784)  # Flatten the input images\n",
    "        x = self.fc1(x)\n",
    "        x = self.relu(x)\n",
    "        x = self.fc2(x)\n",
    "        x = self.relu(x)\n",
    "        x = self.fc3(x)\n",
    "        return x"
   ]
  },
  {
   "cell_type": "code",
   "execution_count": null,
   "metadata": {
    "id": "PcMsydh3H-Rd"
   },
   "outputs": [],
   "source": [
    "net = ANN()\n",
    "criterion = nn.CrossEntropyLoss()\n",
    "optimizer = optim.Adam(net.parameters(), lr=0.001)"
   ]
  },
  {
   "cell_type": "code",
   "execution_count": null,
   "metadata": {
    "id": "xADx4bd6IE13"
   },
   "outputs": [],
   "source": [
    "num_epochs = 10\n",
    "\n",
    "for epoch in range(num_epochs):\n",
    "    running_loss = 0.0\n",
    "\n",
    "    for i, data in enumerate(trainloader, 0):\n",
    "        inputs, labels = data\n",
    "\n",
    "        optimizer.zero_grad()\n",
    "\n",
    "        outputs = net(inputs)\n",
    "        loss = criterion(outputs, labels)\n",
    "        loss.backward()\n",
    "        optimizer.step()\n",
    "\n",
    "        running_loss += loss.item()\n",
    "\n",
    "        # if i % 2000 == 1999:\n",
    "        #     print(f\"[Epoch {epoch + 1}, Batch {i + 1}] Loss: {running_loss / 2000:.3f}\")\n",
    "        #     running_loss = 0.0"
   ]
  },
  {
   "cell_type": "code",
   "execution_count": null,
   "metadata": {
    "colab": {
     "base_uri": "https://localhost:8080/"
    },
    "id": "7vkuQqxSITBe",
    "outputId": "4c01e467-e7d4-48de-aece-98ff0b03db64"
   },
   "outputs": [
    {
     "name": "stdout",
     "output_type": "stream",
     "text": [
      "Accuracy: 91.11%\n"
     ]
    }
   ],
   "source": [
    "correct = 0\n",
    "total = 0\n",
    "\n",
    "with torch.no_grad():\n",
    "    for data in testloader:\n",
    "        images, labels = data\n",
    "        outputs = net(images)\n",
    "        _, predicted = torch.max(outputs.data, 1)\n",
    "        total += labels.size(0)\n",
    "        correct += (predicted == labels).sum().item()\n",
    "\n",
    "print(f\"Accuracy: {100 * correct / total:.2f}%\")"
   ]
  },
  {
   "cell_type": "code",
   "execution_count": null,
   "metadata": {
    "id": "F4IulBu0Jr_3"
   },
   "outputs": [],
   "source": [
    "# Transforms images to a PyTorch Tensor\n",
    "tensor_transform = transforms.ToTensor()\n",
    "\n",
    "# Download the MNIST Dataset\n",
    "dataset = datasets.FashionMNIST(root=\"./data\", train=True, download=True, transform=tensor_transform)\n",
    "\n",
    "# DataLoader is used to load the dataset\n",
    "# for training\n",
    "loader = torch.utils.data.DataLoader(dataset=dataset, batch_size=32, shuffle=True)"
   ]
  },
  {
   "cell_type": "code",
   "execution_count": null,
   "metadata": {
    "id": "NO71WB9LJ3aO"
   },
   "outputs": [],
   "source": [
    "# Creating a PyTorch class\n",
    "# 28*28 ==> 9 ==> 28*28\n",
    "class AE(torch.nn.Module):\n",
    "    def __init__(self):\n",
    "        super().__init__()\n",
    "\n",
    "        # Building an linear encoder with Linear\n",
    "        # layer followed by Relu activation function\n",
    "        # 784 ==> 9\n",
    "        self.encoder = torch.nn.Sequential(\n",
    "            torch.nn.Linear(28 * 28, 128),\n",
    "            torch.nn.ReLU(),\n",
    "            torch.nn.Linear(128, 64),\n",
    "            torch.nn.ReLU(),\n",
    "            torch.nn.Linear(64, 36),\n",
    "            torch.nn.ReLU(),\n",
    "            torch.nn.Linear(36, 18),\n",
    "            torch.nn.ReLU(),\n",
    "            torch.nn.Linear(18, 9),\n",
    "        )\n",
    "\n",
    "        # Building an linear decoder with Linear\n",
    "        # layer followed by Relu activation function\n",
    "        # The Sigmoid activation function\n",
    "        # outputs the value between 0 and 1\n",
    "        # 9 ==> 784\n",
    "        self.decoder = torch.nn.Sequential(\n",
    "            torch.nn.Linear(9, 18),\n",
    "            torch.nn.ReLU(),\n",
    "            torch.nn.Linear(18, 36),\n",
    "            torch.nn.ReLU(),\n",
    "            torch.nn.Linear(36, 64),\n",
    "            torch.nn.ReLU(),\n",
    "            torch.nn.Linear(64, 128),\n",
    "            torch.nn.ReLU(),\n",
    "            torch.nn.Linear(128, 28 * 28),\n",
    "            torch.nn.Sigmoid(),\n",
    "        )\n",
    "\n",
    "    def forward(self, x):\n",
    "        encoded = self.encoder(x)\n",
    "        decoded = self.decoder(encoded)\n",
    "        return decoded"
   ]
  },
  {
   "cell_type": "code",
   "execution_count": null,
   "metadata": {
    "id": "IJ3UPVuBxJ9P"
   },
   "outputs": [],
   "source": [
    "# Model Initialization\n",
    "model = AE()\n",
    "\n",
    "# Validation using MSE Loss function\n",
    "loss_function = torch.nn.MSELoss()\n",
    "\n",
    "# Using an Adam Optimizer with lr = 0.1\n",
    "optimizer = torch.optim.Adam(model.parameters(), lr=1e-1, weight_decay=1e-8)"
   ]
  },
  {
   "cell_type": "code",
   "execution_count": null,
   "metadata": {
    "id": "FkQvDQvnxdxJ"
   },
   "outputs": [],
   "source": [
    "epochs = 10\n",
    "outputs = []\n",
    "losses = []\n",
    "for epoch in range(epochs):\n",
    "    for image, _ in loader:\n",
    "        # Reshaping the image to (-1, 784)\n",
    "        image = image.reshape(-1, 28 * 28)  # Fixed: Indentation corrected\n",
    "\n",
    "        # Output of Autoencoder\n",
    "        reconstructed = model(image)\n",
    "\n",
    "        # Calculating the loss function\n",
    "        loss = loss_function(reconstructed, image)\n",
    "\n",
    "        # The gradients are set to zero,\n",
    "        # the gradient is computed and stored.\n",
    "        # .step() performs parameter update\n",
    "        optimizer.zero_grad()\n",
    "        loss.backward()\n",
    "        optimizer.step()\n",
    "\n",
    "        # Storing the losses in a list for plotting\n",
    "        losses.append(loss)\n",
    "    outputs.append((epochs, image, reconstructed))"
   ]
  },
  {
   "cell_type": "code",
   "execution_count": null,
   "metadata": {
    "id": "sAv2uGMIB4Ec"
   },
   "outputs": [],
   "source": [
    "# Defining the Plot Style\n",
    "plt.style.use(\"fivethirtyeight\")\n",
    "plt.xlabel(\"Iterations\")\n",
    "plt.ylabel(\"Loss\")\n",
    "\n",
    "# Plotting the last 100 values\n",
    "plt.plot(losses[-100:])"
   ]
  },
  {
   "cell_type": "code",
   "execution_count": null,
   "metadata": {
    "id": "YxRmxG4wxiSB",
    "colab": {
     "base_uri": "https://localhost:8080/",
     "height": 470
    },
    "outputId": "f16b7307-a4a1-47a9-ba95-f087f0381c30"
   },
   "outputs": [
    {
     "output_type": "display_data",
     "data": {
      "text/plain": [
       "<Figure size 640x480 with 1 Axes>"
      ],
      "image/png": "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\n"
     },
     "metadata": {}
    }
   ],
   "source": [
    "for i, item in enumerate(image):\n",
    "\n",
    "    # Reshape the array for plotting\n",
    "    item = item.reshape(-1, 28, 28)\n",
    "    plt.imshow(item[0].detach().numpy(), \"gray\")"
   ]
  },
  {
   "cell_type": "code",
   "source": [
    "for i, item in enumerate(reconstructed):\n",
    "    item = item.reshape(-1, 28, 28)\n",
    "    plt.imshow(item[0].detach().numpy(), \"gray\")"
   ],
   "metadata": {
    "colab": {
     "base_uri": "https://localhost:8080/",
     "height": 470
    },
    "id": "GEfraHRPG1vn",
    "outputId": "9657c253-fcdf-412e-d4f6-5275e955745b"
   },
   "execution_count": null,
   "outputs": [
    {
     "output_type": "display_data",
     "data": {
      "text/plain": [
       "<Figure size 640x480 with 1 Axes>"
      ],
      "image/png": "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\n"
     },
     "metadata": {}
    }
   ]
  }
 ],
 "metadata": {
  "accelerator": "GPU",
  "colab": {
   "gpuType": "T4",
   "provenance": []
  },
  "kernelspec": {
   "display_name": "Python 3",
   "name": "python3"
  },
  "nbformat": 4,
  "nbformat_minor": 0
}

